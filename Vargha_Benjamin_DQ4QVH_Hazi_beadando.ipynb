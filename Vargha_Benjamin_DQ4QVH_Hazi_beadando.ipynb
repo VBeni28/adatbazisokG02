{
    "metadata": {
        "kernelspec": {
            "name": "SQL",
            "display_name": "SQL",
            "language": "sql"
        },
        "language_info": {
            "name": "sql",
            "version": ""
        }
    },
    "nbformat_minor": 2,
    "nbformat": 4,
    "cells": [
        {
            "cell_type": "markdown",
            "source": [
                "**A lekérdezés megmutatja hogy mennyiségi egységenként hány db van készleten, és hágyszor vitték fel adatot az adott mennyiségben.**"
            ],
            "metadata": {
                "azdata_cell_guid": "5e8f0fa4-29be-4417-812e-5cf93cdcc2bf"
            },
            "attachments": {}
        },
        {
            "cell_type": "code",
            "source": [
                "select MEGYS, count(*) as 'max_fel', sum(KESZLET) as 'KESZLETEN' from termek group by MEGYS order by count(*) desc"
            ],
            "metadata": {
                "azdata_cell_guid": "1f9e9e54-0a5f-4f48-bcca-1089ee02bdc4",
                "language": "sql"
            },
            "outputs": [
                {
                    "output_type": "display_data",
                    "data": {
                        "text/html": "(6 rows affected)"
                    },
                    "metadata": {}
                },
                {
                    "output_type": "display_data",
                    "data": {
                        "text/html": "Total execution time: 00:00:00.013"
                    },
                    "metadata": {}
                },
                {
                    "output_type": "execute_result",
                    "execution_count": 32,
                    "data": {
                        "application/vnd.dataresource+json": {
                            "schema": {
                                "fields": [
                                    {
                                        "name": "MEGYS"
                                    },
                                    {
                                        "name": "max_fel"
                                    },
                                    {
                                        "name": "KESZLETEN"
                                    }
                                ]
                            },
                            "data": [
                                {
                                    "MEGYS": "db",
                                    "max_fel": "483",
                                    "KESZLETEN": "815131"
                                },
                                {
                                    "MEGYS": "csomag",
                                    "max_fel": "44",
                                    "KESZLETEN": "35050"
                                },
                                {
                                    "MEGYS": "ív",
                                    "max_fel": "21",
                                    "KESZLETEN": "15300"
                                },
                                {
                                    "MEGYS": "tekercs",
                                    "max_fel": "1",
                                    "KESZLETEN": "8000"
                                },
                                {
                                    "MEGYS": "üveg",
                                    "max_fel": "1",
                                    "KESZLETEN": "300"
                                },
                                {
                                    "MEGYS": "doboz",
                                    "max_fel": "1",
                                    "KESZLETEN": "100"
                                }
                            ]
                        },
                        "text/html": "<table><tr><th>MEGYS</th><th>max_fel</th><th>KESZLETEN</th></tr><tr><td>db</td><td>483</td><td>815131</td></tr><tr><td>csomag</td><td>44</td><td>35050</td></tr><tr><td>ív</td><td>21</td><td>15300</td></tr><tr><td>tekercs</td><td>1</td><td>8000</td></tr><tr><td>üveg</td><td>1</td><td>300</td></tr><tr><td>doboz</td><td>1</td><td>100</td></tr></table>"
                    },
                    "metadata": {}
                }
            ],
            "execution_count": 32
        },
        {
            "cell_type": "markdown",
            "source": [
                "![](data:image/png;base64,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)"
            ],
            "metadata": {
                "azdata_cell_guid": "a01bf117-fec5-49ed-bc50-aabde0e5d5bc"
            },
            "attachments": {}
        },
        {
            "cell_type": "markdown",
            "source": [
                "A legtöbb adatot db - mennyiségi egységben vitték fel, és igy van tárolva a legöbb mennyiség is"
            ],
            "metadata": {
                "azdata_cell_guid": "fe5f611b-0b16-4784-ba28-f42e34eedbd1"
            },
            "attachments": {}
        },
        {
            "cell_type": "markdown",
            "source": [
                "<span style=\"color: var(--vscode-foreground);\"><b>A lekérdezés megmutatja a listaár minimumát, maximumát, átlagát, a szórását, darabszámát, és az egyedi értékek számát</b></span>"
            ],
            "metadata": {
                "azdata_cell_guid": "bba0c320-cef0-4fb8-9869-180fc68f8858"
            },
            "attachments": {}
        },
        {
            "cell_type": "code",
            "source": [
                "SELECT \r\n",
                "    MIN(LISTAAR) AS minimum,\r\n",
                "    MAX(LISTAAR) AS maximum,\r\n",
                "    AVG(LISTAAR) AS atlag,\r\n",
                "    SQRT(\r\n",
                "        AVG(LISTAAR * LISTAAR) - AVG(LISTAAR) * AVG(LISTAAR)\r\n",
                "    ) AS szoras,\r\n",
                "    COUNT(LISTAAR) AS elemszam,\r\n",
                "    COUNT(DISTINCT LISTAAR) AS egyedi_elemek_szama\r\n",
                "FROM Termek;"
            ],
            "metadata": {
                "azdata_cell_guid": "a689466e-5842-492c-b54f-fc56721a3e1d",
                "language": "sql"
            },
            "outputs": [
                {
                    "output_type": "display_data",
                    "data": {
                        "text/html": "(1 row affected)"
                    },
                    "metadata": {}
                },
                {
                    "output_type": "display_data",
                    "data": {
                        "text/html": "Total execution time: 00:00:00.096"
                    },
                    "metadata": {}
                },
                {
                    "output_type": "execute_result",
                    "execution_count": 34,
                    "data": {
                        "application/vnd.dataresource+json": {
                            "schema": {
                                "fields": [
                                    {
                                        "name": "minimum"
                                    },
                                    {
                                        "name": "maximum"
                                    },
                                    {
                                        "name": "atlag"
                                    },
                                    {
                                        "name": "szoras"
                                    },
                                    {
                                        "name": "elemszam"
                                    },
                                    {
                                        "name": "egyedi_elemek_szama"
                                    }
                                ]
                            },
                            "data": [
                                {
                                    "minimum": "0",
                                    "maximum": "46000",
                                    "atlag": "786.2813067150635",
                                    "szoras": "3599.2106392606024",
                                    "elemszam": "551",
                                    "egyedi_elemek_szama": "220"
                                }
                            ]
                        },
                        "text/html": "<table><tr><th>minimum</th><th>maximum</th><th>atlag</th><th>szoras</th><th>elemszam</th><th>egyedi_elemek_szama</th></tr><tr><td>0</td><td>46000</td><td>786.2813067150635</td><td>3599.2106392606024</td><td>551</td><td>220</td></tr></table>"
                    },
                    "metadata": {}
                }
            ],
            "execution_count": 34
        },
        {
            "cell_type": "markdown",
            "source": [
                "A lekérdezésből kiderül hogy a listaar minimuma 0, maximuma 46000, az átlaga: 786.28, a szórása 3599.21. \n",
                "\n",
                "Összesen 551 db listaar van és ebből 220 különböző érték van megadva a táblában"
            ],
            "metadata": {
                "language": "sql",
                "azdata_cell_guid": "a62d692a-08ad-4840-8f25-628292699bb2"
            },
            "attachments": {}
        },
        {
            "cell_type": "markdown",
            "source": [
                "**A lekérdezés megmutatja hogy mennyi null érték van a leírás oszlopban.**"
            ],
            "metadata": {
                "azdata_cell_guid": "568c6f7a-7d50-44f3-8759-3c457eab15b1"
            },
            "attachments": {}
        },
        {
            "cell_type": "code",
            "source": [
                "SELECT row_type,\r\n",
                "       COUNT(*) AS row_count,\r\n",
                "       ROUND(COUNT(*) * 100.0 / SUM(COUNT(*)) OVER(), 2) AS percentage\r\n",
                "FROM \r\n",
                "    (SELECT \r\n",
                "        CASE \r\n",
                "            WHEN LEIRAS IS NULL THEN 'Null'\r\n",
                "            ELSE 'Non Empty' \r\n",
                "        END AS row_type\r\n",
                "     FROM Termek) rows\r\n",
                "GROUP BY row_type;"
            ],
            "metadata": {
                "azdata_cell_guid": "5021fd2e-6051-4990-8424-c326365d162c",
                "language": "sql"
            },
            "outputs": [
                {
                    "output_type": "display_data",
                    "data": {
                        "text/html": "(2 rows affected)"
                    },
                    "metadata": {}
                },
                {
                    "output_type": "display_data",
                    "data": {
                        "text/html": "Total execution time: 00:00:00.030"
                    },
                    "metadata": {}
                },
                {
                    "output_type": "execute_result",
                    "metadata": {},
                    "execution_count": 6,
                    "data": {
                        "application/vnd.dataresource+json": {
                            "schema": {
                                "fields": [
                                    {
                                        "name": "row_type"
                                    },
                                    {
                                        "name": "row_count"
                                    },
                                    {
                                        "name": "percentage"
                                    }
                                ]
                            },
                            "data": [
                                {
                                    "row_type": "Non Empty",
                                    "row_count": "24",
                                    "percentage": "4.360000000000"
                                },
                                {
                                    "row_type": "Null",
                                    "row_count": "527",
                                    "percentage": "95.640000000000"
                                }
                            ]
                        },
                        "text/html": [
                            "<table>",
                            "<tr><th>row_type</th><th>row_count</th><th>percentage</th></tr>",
                            "<tr><td>Non Empty</td><td>24</td><td>4.360000000000</td></tr>",
                            "<tr><td>Null</td><td>527</td><td>95.640000000000</td></tr>",
                            "</table>"
                        ]
                    }
                }
            ],
            "execution_count": 6
        },
        {
            "cell_type": "markdown",
            "source": [
                "A leirás oszlop kitöltöttségi szintje nem magas hiszen alig 4% -a kitöltve a rekordoknak."
            ],
            "metadata": {
                "language": "sql",
                "azdata_cell_guid": "c656f9a1-f1ca-46f5-a2f5-0e09b710ad49"
            },
            "attachments": {}
        },
        {
            "cell_type": "markdown",
            "source": [
                "**A lekérdezés megmutatja, hogy bizonyos kategóriáknak mennyi terméke van, és ez hány százalékát teszi ki az egész táblának. Csak a 10 legtöbb darabszámmal rendelkezőt jeleníti meg**"
            ],
            "metadata": {
                "azdata_cell_guid": "3ee0d21a-e728-4039-9dc7-d42155eedb83"
            },
            "attachments": {}
        },
        {
            "cell_type": "code",
            "source": [
                "SELECT top 10\r\n",
                "    TK.KAT_NEV,\r\n",
                "    COUNT(*) AS darabszam,\r\n",
                "    ROUND((COUNT(*) * 100.0 / (SELECT COUNT(*) FROM Termek)), 2) AS szazalek\r\n",
                "FROM Termek T join Termekkategoria TK ON T.KAT_ID = TK.KAT_ID \r\n",
                "GROUP BY TK.KAT_NEV\r\n",
                "ORDER BY darabszam DESC;"
            ],
            "metadata": {
                "azdata_cell_guid": "73595b97-6ef4-4153-b664-d06199a45971",
                "language": "sql",
                "tags": []
            },
            "outputs": [
                {
                    "output_type": "display_data",
                    "data": {
                        "text/html": "(10 rows affected)"
                    },
                    "metadata": {}
                },
                {
                    "output_type": "display_data",
                    "data": {
                        "text/html": "Total execution time: 00:00:00.024"
                    },
                    "metadata": {}
                },
                {
                    "output_type": "execute_result",
                    "metadata": {},
                    "execution_count": 8,
                    "data": {
                        "application/vnd.dataresource+json": {
                            "schema": {
                                "fields": [
                                    {
                                        "name": "KAT_NEV"
                                    },
                                    {
                                        "name": "darabszam"
                                    },
                                    {
                                        "name": "szazalek"
                                    }
                                ]
                            },
                            "data": [
                                {
                                    "KAT_NEV": "golyóstoll",
                                    "darabszam": "26",
                                    "szazalek": "4.720000000000"
                                },
                                {
                                    "KAT_NEV": "iskolaszer",
                                    "darabszam": "24",
                                    "szazalek": "4.360000000000"
                                },
                                {
                                    "KAT_NEV": "ajándék tasak",
                                    "darabszam": "20",
                                    "szazalek": "3.630000000000"
                                },
                                {
                                    "KAT_NEV": "ceruza",
                                    "darabszam": "19",
                                    "szazalek": "3.450000000000"
                                },
                                {
                                    "KAT_NEV": "tollbetét",
                                    "darabszam": "18",
                                    "szazalek": "3.270000000000"
                                },
                                {
                                    "KAT_NEV": "képeslap",
                                    "darabszam": "16",
                                    "szazalek": "2.900000000000"
                                },
                                {
                                    "KAT_NEV": "könyv",
                                    "darabszam": "15",
                                    "szazalek": "2.720000000000"
                                },
                                {
                                    "KAT_NEV": "filctoll",
                                    "darabszam": "13",
                                    "szazalek": "2.360000000000"
                                },
                                {
                                    "KAT_NEV": "füzet",
                                    "darabszam": "11",
                                    "szazalek": "2.000000000000"
                                },
                                {
                                    "KAT_NEV": "matrica",
                                    "darabszam": "10",
                                    "szazalek": "1.810000000000"
                                }
                            ]
                        },
                        "text/html": [
                            "<table>",
                            "<tr><th>KAT_NEV</th><th>darabszam</th><th>szazalek</th></tr>",
                            "<tr><td>golyóstoll</td><td>26</td><td>4.720000000000</td></tr>",
                            "<tr><td>iskolaszer</td><td>24</td><td>4.360000000000</td></tr>",
                            "<tr><td>ajándék tasak</td><td>20</td><td>3.630000000000</td></tr>",
                            "<tr><td>ceruza</td><td>19</td><td>3.450000000000</td></tr>",
                            "<tr><td>tollbetét</td><td>18</td><td>3.270000000000</td></tr>",
                            "<tr><td>képeslap</td><td>16</td><td>2.900000000000</td></tr>",
                            "<tr><td>könyv</td><td>15</td><td>2.720000000000</td></tr>",
                            "<tr><td>filctoll</td><td>13</td><td>2.360000000000</td></tr>",
                            "<tr><td>füzet</td><td>11</td><td>2.000000000000</td></tr>",
                            "<tr><td>matrica</td><td>10</td><td>1.810000000000</td></tr>",
                            "</table>"
                        ]
                    }
                }
            ],
            "execution_count": 8
        },
        {
            "cell_type": "markdown",
            "source": [
                "![](data:image/png;base64,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)"
            ],
            "metadata": {
                "language": "sql",
                "azdata_cell_guid": "8f24b50a-465d-4320-9fef-b743c01799ae"
            },
            "attachments": {}
        },
        {
            "cell_type": "markdown",
            "source": [
                "<u>A lekérdezésből látszódik hogy a golyóstollból van a legtöbb</u>"
            ],
            "metadata": {
                "language": "sql",
                "azdata_cell_guid": "7c95b534-872a-4a6b-83d6-5d7b4f583932"
            },
            "attachments": {}
        },
        {
            "cell_type": "markdown",
            "source": [
                "**A lekérdezés megmutatja hogy hágy db és milyen hosszú szövegek vannak a megnevezések oszlopban**"
            ],
            "metadata": {
                "language": "sql",
                "azdata_cell_guid": "0adadaf7-fcfa-49a2-9f08-d5abc18df0d8"
            },
            "attachments": {}
        },
        {
            "cell_type": "code",
            "source": [
                "SELECT LEN(MEGNEVEZES) AS string_length,\r\n",
                "       count(*) AS row_count\r\n",
                "FROM Termek\r\n",
                "GROUP BY LEN(MEGNEVEZES)\r\n",
                "ORDER BY 1"
            ],
            "metadata": {
                "language": "sql",
                "azdata_cell_guid": "cd80ecd7-4d09-455c-be91-1e51a08632fa"
            },
            "outputs": [
                {
                    "output_type": "display_data",
                    "data": {
                        "text/html": "(33 rows affected)"
                    },
                    "metadata": {}
                },
                {
                    "output_type": "display_data",
                    "data": {
                        "text/html": "Total execution time: 00:00:00.022"
                    },
                    "metadata": {}
                },
                {
                    "output_type": "execute_result",
                    "metadata": {},
                    "execution_count": 5,
                    "data": {
                        "application/vnd.dataresource+json": {
                            "schema": {
                                "fields": [
                                    {
                                        "name": "string_length"
                                    },
                                    {
                                        "name": "row_count"
                                    }
                                ]
                            },
                            "data": [
                                {
                                    "string_length": "3",
                                    "row_count": "2"
                                },
                                {
                                    "string_length": "5",
                                    "row_count": "2"
                                },
                                {
                                    "string_length": "6",
                                    "row_count": "1"
                                },
                                {
                                    "string_length": "7",
                                    "row_count": "2"
                                },
                                {
                                    "string_length": "8",
                                    "row_count": "5"
                                },
                                {
                                    "string_length": "9",
                                    "row_count": "8"
                                },
                                {
                                    "string_length": "10",
                                    "row_count": "15"
                                },
                                {
                                    "string_length": "11",
                                    "row_count": "18"
                                },
                                {
                                    "string_length": "12",
                                    "row_count": "23"
                                },
                                {
                                    "string_length": "13",
                                    "row_count": "30"
                                },
                                {
                                    "string_length": "14",
                                    "row_count": "35"
                                },
                                {
                                    "string_length": "15",
                                    "row_count": "32"
                                },
                                {
                                    "string_length": "16",
                                    "row_count": "42"
                                },
                                {
                                    "string_length": "17",
                                    "row_count": "32"
                                },
                                {
                                    "string_length": "18",
                                    "row_count": "38"
                                },
                                {
                                    "string_length": "19",
                                    "row_count": "37"
                                },
                                {
                                    "string_length": "20",
                                    "row_count": "35"
                                },
                                {
                                    "string_length": "21",
                                    "row_count": "37"
                                },
                                {
                                    "string_length": "22",
                                    "row_count": "26"
                                },
                                {
                                    "string_length": "23",
                                    "row_count": "20"
                                },
                                {
                                    "string_length": "24",
                                    "row_count": "29"
                                },
                                {
                                    "string_length": "25",
                                    "row_count": "16"
                                },
                                {
                                    "string_length": "26",
                                    "row_count": "12"
                                },
                                {
                                    "string_length": "27",
                                    "row_count": "10"
                                },
                                {
                                    "string_length": "28",
                                    "row_count": "8"
                                },
                                {
                                    "string_length": "29",
                                    "row_count": "11"
                                },
                                {
                                    "string_length": "30",
                                    "row_count": "11"
                                },
                                {
                                    "string_length": "31",
                                    "row_count": "5"
                                },
                                {
                                    "string_length": "32",
                                    "row_count": "1"
                                },
                                {
                                    "string_length": "33",
                                    "row_count": "2"
                                },
                                {
                                    "string_length": "36",
                                    "row_count": "2"
                                },
                                {
                                    "string_length": "39",
                                    "row_count": "2"
                                },
                                {
                                    "string_length": "40",
                                    "row_count": "2"
                                }
                            ]
                        },
                        "text/html": [
                            "<table>",
                            "<tr><th>string_length</th><th>row_count</th></tr>",
                            "<tr><td>3</td><td>2</td></tr>",
                            "<tr><td>5</td><td>2</td></tr>",
                            "<tr><td>6</td><td>1</td></tr>",
                            "<tr><td>7</td><td>2</td></tr>",
                            "<tr><td>8</td><td>5</td></tr>",
                            "<tr><td>9</td><td>8</td></tr>",
                            "<tr><td>10</td><td>15</td></tr>",
                            "<tr><td>11</td><td>18</td></tr>",
                            "<tr><td>12</td><td>23</td></tr>",
                            "<tr><td>13</td><td>30</td></tr>",
                            "<tr><td>14</td><td>35</td></tr>",
                            "<tr><td>15</td><td>32</td></tr>",
                            "<tr><td>16</td><td>42</td></tr>",
                            "<tr><td>17</td><td>32</td></tr>",
                            "<tr><td>18</td><td>38</td></tr>",
                            "<tr><td>19</td><td>37</td></tr>",
                            "<tr><td>20</td><td>35</td></tr>",
                            "<tr><td>21</td><td>37</td></tr>",
                            "<tr><td>22</td><td>26</td></tr>",
                            "<tr><td>23</td><td>20</td></tr>",
                            "<tr><td>24</td><td>29</td></tr>",
                            "<tr><td>25</td><td>16</td></tr>",
                            "<tr><td>26</td><td>12</td></tr>",
                            "<tr><td>27</td><td>10</td></tr>",
                            "<tr><td>28</td><td>8</td></tr>",
                            "<tr><td>29</td><td>11</td></tr>",
                            "<tr><td>30</td><td>11</td></tr>",
                            "<tr><td>31</td><td>5</td></tr>",
                            "<tr><td>32</td><td>1</td></tr>",
                            "<tr><td>33</td><td>2</td></tr>",
                            "<tr><td>36</td><td>2</td></tr>",
                            "<tr><td>39</td><td>2</td></tr>",
                            "<tr><td>40</td><td>2</td></tr>",
                            "</table>"
                        ]
                    }
                }
            ],
            "execution_count": 5
        },
        {
            "cell_type": "markdown",
            "source": [
                "![](data:image/png;base64,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)"
            ],
            "metadata": {
                "language": "sql",
                "azdata_cell_guid": "282813d2-6b77-45c3-b0b2-2c12215fe220"
            },
            "attachments": {}
        },
        {
            "cell_type": "markdown",
            "source": [
                "ahogy látszódik is a diagromból 1 től egészen 33 hosszúságú karakterláncok is vannak a Megnevezés oszlopban. Jól látszik a haranggörbe eloszlás amely megmutatja hogy a közepes hosszúságú szövegekből van a legtöbb."
            ],
            "metadata": {
                "language": "sql",
                "azdata_cell_guid": "35593025-4cf8-424b-93ca-d013c5c3574b"
            },
            "attachments": {}
        }
    ]
}